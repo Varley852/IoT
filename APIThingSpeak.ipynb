{
  "nbformat": 4,
  "nbformat_minor": 0,
  "metadata": {
    "colab": {
      "provenance": [],
      "toc_visible": true,
      "authorship_tag": "ABX9TyMxqtHKyZ11zlckegYvMbRM",
      "include_colab_link": true
    },
    "kernelspec": {
      "name": "python3",
      "display_name": "Python 3"
    },
    "language_info": {
      "name": "python"
    }
  },
  "cells": [
    {
      "cell_type": "markdown",
      "metadata": {
        "id": "view-in-github",
        "colab_type": "text"
      },
      "source": [
        "<a href=\"https://colab.research.google.com/github/Varley852/IoT/blob/main/APIThingSpeak.ipynb\" target=\"_parent\"><img src=\"https://colab.research.google.com/assets/colab-badge.svg\" alt=\"Open In Colab\"/></a>"
      ]
    },
    {
      "cell_type": "code",
      "execution_count": 12,
      "metadata": {
        "colab": {
          "base_uri": "https://localhost:8080/"
        },
        "id": "xvhbP7IP6ajH",
        "outputId": "d0841f7b-9175-4285-fe69-4f8f80173d95"
      },
      "outputs": [
        {
          "output_type": "stream",
          "name": "stdout",
          "text": [
            "{'channel': {'id': 2943258, 'name': 'IoT-e-Maker', 'description': 'Canal para Registro de Informacoes de IOT como exemplo para formacao COMPET 2025', 'latitude': '0.0', 'longitude': '0.0', 'field1': 'umidade', 'field2': 'temperatura', 'field3': 'temp_escritorio', 'created_at': '2025-04-30T20:28:26Z', 'updated_at': '2025-08-12T18:55:28Z', 'last_entry_id': 25934}, 'feeds': [{'created_at': '2025-09-18T18:05:25Z', 'entry_id': 25930, 'field1': '142.00000', 'field2': '180.00000', 'field3': None}, {'created_at': '2025-09-18T18:05:56Z', 'entry_id': 25931, 'field1': '185.00000', 'field2': '164.00000', 'field3': None}, {'created_at': '2025-09-18T18:06:27Z', 'entry_id': 25932, 'field1': '141.00000', 'field2': '154.00000', 'field3': None}, {'created_at': '2025-09-18T18:06:58Z', 'entry_id': 25933, 'field1': '196.00000', 'field2': '165.00000', 'field3': None}, {'created_at': '2025-09-18T18:07:28Z', 'entry_id': 25934, 'field1': '184.00000', 'field2': '198.00000', 'field3': None}]}\n",
            "Entry ID: 25930, Field1: 142.00000\n",
            "Entry ID: 25931, Field1: 185.00000\n",
            "Entry ID: 25932, Field1: 141.00000\n",
            "Entry ID: 25933, Field1: 196.00000\n",
            "Entry ID: 25934, Field1: 184.00000\n",
            "Entry ID: 25930, Field2: 180.00000\n",
            "Entry ID: 25931, Field2: 164.00000\n",
            "Entry ID: 25932, Field2: 154.00000\n",
            "Entry ID: 25933, Field2: 165.00000\n",
            "Entry ID: 25934, Field2: 198.00000\n"
          ]
        }
      ],
      "source": [
        "import requests\n",
        "import matplotlib.pyplot as plt\n",
        "\n",
        "\n",
        "# Substitua pelos seus valores\n",
        "channel_id = \"2943258\"\n",
        "api_key = \"G3BDQS6I5PRGFEWR\"  # Chave de leitura, não a de escrita\n",
        "url = f\"https://api.thingspeak.com/channels/{channel_id}/feeds.json?api_key={api_key}&results=5\" # Obter os 2 últimos resultados\n",
        "\n",
        "try:\n",
        "    response = requests.get(url)\n",
        "    response.raise_for_status()  # Lança um erro para códigos de status ruins (4xx ou 5xx)\n",
        "    data = response.json() # Converte a resposta JSON para um dicionário Python\n",
        "    print(data) # Imprime os dados lidos\n",
        "    # Agora você pode processar os dados do dicionário 'data'\n",
        "    # Por exemplo, para ver os dados do field1:\n",
        "    if data['feeds']:\n",
        "      for entry in data['feeds']:\n",
        "        print(f\"Entry ID: {entry['entry_id']}, Field1: {entry['field1']}\")\n",
        "\n",
        "    if data['feeds']:\n",
        "      for entry in data['feeds']:\n",
        "        print(f\"Entry ID: {entry['entry_id']}, Field2: {entry['field2']}\")\n",
        "\n",
        "except requests.exceptions.RequestException as e:\n",
        "    print(f\"Erro ao fazer a requisição: {e}\")"
      ]
    }
  ]
}